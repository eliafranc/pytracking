{
 "cells": [
  {
   "cell_type": "markdown",
   "metadata": {},
   "source": [
    "# Generating Results on Datasets"
   ]
  },
  {
   "cell_type": "code",
   "execution_count": 1,
   "metadata": {},
   "outputs": [],
   "source": [
    "%load_ext autoreload\n",
    "%autoreload 2\n",
    "%matplotlib inline\n",
    "import os\n",
    "import sys\n",
    "import matplotlib.pyplot as plt\n",
    "plt.rcParams['figure.figsize'] = [14, 8]\n",
    "\n",
    "sys.path.append('../..')\n",
    "from pytracking.analysis.plot_results import plot_results, print_results, print_per_sequence_results\n",
    "from pytracking.evaluation import Tracker, get_dataset, trackerlist"
   ]
  },
  {
   "cell_type": "markdown",
   "metadata": {},
   "source": [
    "## Plots for OTB, NFS and UAV"
   ]
  },
  {
   "cell_type": "code",
   "execution_count": null,
   "metadata": {},
   "outputs": [
    {
     "ename": "",
     "evalue": "",
     "output_type": "error",
     "traceback": [
      "\u001b[1;31mFailed to start the Kernel. \n",
      "\u001b[1;31mView Jupyter <a href='command:jupyter.viewOutput'>log</a> for further details."
     ]
    }
   ],
   "source": [
    "trackers = []\n",
    "trackers.extend(trackerlist('atom', 'default', range(0,5), 'ATOM'))\n",
    "trackers.extend(trackerlist('dimp', 'dimp18', range(0,5), 'DiMP18'))\n",
    "trackers.extend(trackerlist('dimp', 'dimp50', range(0,5), 'DiMP50'))\n",
    "trackers.extend(trackerlist('dimp', 'prdimp18', range(0,5), 'PrDiMP18'))\n",
    "trackers.extend(trackerlist('dimp', 'prdimp50', range(0,5), 'PrDiMP50'))\n",
    "\n",
    "dataset = get_dataset('otb')\n",
    "plot_results(trackers, dataset, 'OTB', merge_results=True, plot_types=('success', 'prec'), \n",
    "             skip_missing_seq=False, force_evaluation=True, plot_bin_gap=0.05, exclude_invalid_frames=False)\n",
    "\n",
    "dataset = get_dataset('nfs')\n",
    "plot_results(trackers, dataset, 'NFS', merge_results=True, plot_types=('success', 'prec'), \n",
    "             skip_missing_seq=False, force_evaluation=True, plot_bin_gap=0.05, exclude_invalid_frames=False)\n",
    "\n",
    "dataset = get_dataset('uav')\n",
    "plot_results(trackers, dataset, 'UAV', merge_results=True, plot_types=('success', 'prec'), \n",
    "             skip_missing_seq=False, force_evaluation=True, plot_bin_gap=0.05, exclude_invalid_frames=False)\n",
    "\n",
    "dataset = get_dataset('otb', 'nfs', 'uav')\n",
    "plot_results(trackers, dataset, 'OTB+NFS+UAV', merge_results=True, plot_types=('success', 'prec'), \n",
    "             skip_missing_seq=False, force_evaluation=True, plot_bin_gap=0.05, exclude_invalid_frames=False)"
   ]
  },
  {
   "cell_type": "markdown",
   "metadata": {},
   "source": [
    "## Plots for LaSOT"
   ]
  },
  {
   "cell_type": "code",
   "execution_count": null,
   "metadata": {},
   "outputs": [
    {
     "ename": "",
     "evalue": "",
     "output_type": "error",
     "traceback": [
      "\u001b[1;31mFailed to start the Kernel. \n",
      "\u001b[1;31mView Jupyter <a href='command:jupyter.viewOutput'>log</a> for further details."
     ]
    }
   ],
   "source": [
    "trackers = []\n",
    "trackers.extend(trackerlist('atom', 'default', range(0,5), 'ATOM'))\n",
    "trackers.extend(trackerlist('dimp', 'dimp18', range(0,5), 'DiMP18'))\n",
    "trackers.extend(trackerlist('dimp', 'dimp50', range(0,5), 'DiMP50'))\n",
    "trackers.extend(trackerlist('dimp', 'prdimp18', range(0,5), 'PrDiMP18'))\n",
    "trackers.extend(trackerlist('dimp', 'prdimp50', range(0,5), 'PrDiMP50'))\n",
    "\n",
    "dataset = get_dataset('lasot')\n",
    "plot_results(trackers, dataset, 'LaSOT', merge_results=True, plot_types=('success'), \n",
    "             skip_missing_seq=False, force_evaluation=True, plot_bin_gap=0.05)"
   ]
  },
  {
   "cell_type": "markdown",
   "metadata": {},
   "source": [
    "## Tables for OTB, NFS, UAV and LaSOT"
   ]
  },
  {
   "cell_type": "code",
   "execution_count": null,
   "metadata": {},
   "outputs": [
    {
     "ename": "",
     "evalue": "",
     "output_type": "error",
     "traceback": [
      "\u001b[1;31mFailed to start the Kernel. \n",
      "\u001b[1;31mView Jupyter <a href='command:jupyter.viewOutput'>log</a> for further details."
     ]
    }
   ],
   "source": [
    "trackers = []\n",
    "trackers.extend(trackerlist('atom', 'default', range(0,5), 'ATOM'))\n",
    "trackers.extend(trackerlist('dimp', 'dimp18', range(0,5), 'DiMP18'))\n",
    "trackers.extend(trackerlist('dimp', 'dimp50', range(0,5), 'DiMP50'))\n",
    "trackers.extend(trackerlist('dimp', 'prdimp18', range(0,5), 'PrDiMP18'))\n",
    "trackers.extend(trackerlist('dimp', 'prdimp50', range(0,5), 'PrDiMP50'))\n",
    "\n",
    "dataset = get_dataset('otb')\n",
    "print_results(trackers, dataset, 'OTB', merge_results=True, plot_types=('success', 'prec', 'norm_prec'))\n",
    "\n",
    "dataset = get_dataset('nfs')\n",
    "print_results(trackers, dataset, 'NFS', merge_results=True, plot_types=('success', 'prec', 'norm_prec'))\n",
    "\n",
    "dataset = get_dataset('uav')\n",
    "print_results(trackers, dataset, 'UAV', merge_results=True, plot_types=('success', 'prec', 'norm_prec'))\n",
    "\n",
    "dataset = get_dataset('otb', 'nfs', 'uav')\n",
    "print_results(trackers, dataset, 'OTB+NFS+UAV', merge_results=True, plot_types=('success', 'prec', 'norm_prec'))\n",
    "\n",
    "dataset = get_dataset('lasot')\n",
    "print_results(trackers, dataset, 'LaSOT', merge_results=True, plot_types=('success', 'prec', 'norm_prec'))"
   ]
  },
  {
   "cell_type": "markdown",
   "metadata": {},
   "source": [
    "## Filtered per-sequence results"
   ]
  },
  {
   "cell_type": "code",
   "execution_count": null,
   "metadata": {},
   "outputs": [
    {
     "ename": "",
     "evalue": "",
     "output_type": "error",
     "traceback": [
      "\u001b[1;31mFailed to start the Kernel. \n",
      "\u001b[1;31mView Jupyter <a href='command:jupyter.viewOutput'>log</a> for further details."
     ]
    }
   ],
   "source": [
    "# Print per sequence results for sequences where all trackers fail, i.e. all trackers have average overlap in percentage of less than 10.0\n",
    "filter_criteria = {'mode': 'ao_max', 'threshold': 10.0}\n",
    "dataset = get_dataset('otb', 'nfs', 'uav')\n",
    "print_per_sequence_results(trackers, dataset, 'OTB+NFS+UAV', merge_results=True, filter_criteria=filter_criteria, force_evaluation=False)"
   ]
  },
  {
   "cell_type": "code",
   "execution_count": null,
   "metadata": {},
   "outputs": [
    {
     "ename": "",
     "evalue": "",
     "output_type": "error",
     "traceback": [
      "\u001b[1;31mFailed to start the Kernel. \n",
      "\u001b[1;31mView Jupyter <a href='command:jupyter.viewOutput'>log</a> for further details."
     ]
    }
   ],
   "source": [
    "# Print per sequence results for sequences where at least one tracker fails, i.e. a tracker has average overlap in percentage of less than 10.0\n",
    "filter_criteria = {'mode': 'ao_min', 'threshold': 10.0}\n",
    "dataset = get_dataset('otb', 'nfs', 'uav')\n",
    "print_per_sequence_results(trackers, dataset, 'OTB+NFS+UAV', merge_results=True, filter_criteria=filter_criteria, force_evaluation=False)"
   ]
  },
  {
   "cell_type": "code",
   "execution_count": null,
   "metadata": {},
   "outputs": [
    {
     "ename": "",
     "evalue": "",
     "output_type": "error",
     "traceback": [
      "\u001b[1;31mFailed to start the Kernel. \n",
      "\u001b[1;31mView Jupyter <a href='command:jupyter.viewOutput'>log</a> for further details."
     ]
    }
   ],
   "source": [
    "# Print per sequence results for sequences where the trackers have differing behavior.\n",
    "# i.e. average overlap in percentage for different trackers on a sequence differ by at least 40.0\n",
    "filter_criteria = {'mode': 'delta_ao', 'threshold': 40.0}\n",
    "dataset = get_dataset('otb', 'nfs', 'uav')\n",
    "print_per_sequence_results(trackers, dataset, 'OTB+NFS+UAV', merge_results=True, filter_criteria=filter_criteria, force_evaluation=False)"
   ]
  },
  {
   "cell_type": "code",
   "execution_count": 15,
   "metadata": {},
   "outputs": [
    {
     "name": "stdout",
     "output_type": "stream",
     "text": [
      "{'ToMP50': tensor([ 0.4167, 53.2068,  4.7460, 65.6515, 52.5392, 37.9058, 51.4057, 57.2617,\n",
      "        56.1384, 60.3519, 65.4212, 52.4634, 45.2217, 52.2863, 63.6863, 75.8735,\n",
      "         2.6119, 44.5640,  6.0499, 23.1362, 62.0382,  4.2640, 41.4367, 62.2207,\n",
      "        47.6328, 72.3371, 54.5764,  5.2377,  2.3324, 33.6007, 50.6018,  3.8856,\n",
      "         0.3953,  6.4848, 51.1177, 50.2197, 54.8473, 63.0989, 68.8000, 55.5722,\n",
      "        57.5281, 51.9335, 54.6633, 72.6739, 16.4758, 52.9950, 55.2004, 59.5545,\n",
      "         0.3623,  0.3367, 51.4948, 30.0824, 59.5482,  2.1352, 44.3504, 48.1819,\n",
      "        63.3919, 55.4556,  0.3401, 23.8151,  0.3236,  0.3236,  0.9615,  2.2222,\n",
      "        47.0463, 42.9629, 39.9491,  0.5155, 44.8422, 59.2246, 32.2457,  8.2328,\n",
      "        50.7162,  3.0367, 43.3645,  8.7756, 59.6367,  4.6216,  1.8730,  0.5663,\n",
      "         2.9411, 58.8054,  0.3831,  1.8519,  0.6667,  3.0784, 62.9869,  4.7222,\n",
      "         9.8967, 50.3825, 11.8018, 26.7063, 17.1213, 59.5183,  0.2924, 45.6206,\n",
      "         2.8571,  0.2793,  7.6923,  1.4286,  1.7404, 44.1726, 10.5561, 12.5178,\n",
      "         9.2544,  0.6803,  0.8850,  8.3333,  2.3871,  2.4378, 65.8073,  2.9468,\n",
      "        14.5114, 67.0471,  0.8000,  0.8000, 42.1410, 63.1879, 63.8768, 42.4633,\n",
      "        46.7006]), 'ToMP50_RGB': tensor([ 2.8119, 62.1790,  3.0424,  2.0117,  4.0262,  5.8239,  1.5669,  1.8305,\n",
      "         2.3665,  2.0085,  1.7948, 14.6238, 52.7235,  1.1423, 76.1999, 71.7335,\n",
      "        37.1806, 70.3783,  7.6696, 39.0610, 57.0613, 10.7844, 37.5367,  3.0911,\n",
      "         5.8325,  3.1083,  6.6351,  5.2185,  0.9904,  3.7513, 65.1777,  3.6988,\n",
      "         0.3953,  6.4635,  1.1323,  0.6868,  5.0191,  3.6963,  1.4266,  2.2172,\n",
      "        28.0959,  1.9748, 67.9108,  1.2217,  7.6006,  9.2092,  1.1127,  4.0075,\n",
      "         0.3356,  0.3367,  8.1194,  0.7826,  2.9039,  6.1635,  0.7831,  1.6590,\n",
      "         2.5502,  0.8699,  0.4657,  0.8257,  0.3236,  0.3236,  0.9615,  2.2222,\n",
      "         8.5037,  1.7508,  2.9686,  0.5155,  5.7195,  4.9414, 66.4556, 75.0015,\n",
      "         1.0825,  3.4221,  3.0743, 40.6697, 47.2696, 68.0590,  2.1461,  8.7308,\n",
      "         2.2115,  2.9710,  0.3831,  1.8519,  0.6667,  3.1240, 42.3348, 53.2005,\n",
      "        73.1355,  2.8024, 68.1367, 73.9955, 20.0642,  5.4651,  0.9244,  0.7102,\n",
      "         2.8571,  0.2793,  7.6923,  1.4286,  1.4212,  1.9816,  1.4956,  1.3694,\n",
      "         6.7756,  0.6803,  0.8850,  8.3333,  2.2302,  1.9739,  0.5817,  2.1117,\n",
      "        20.1996, 68.3696, 65.9635, 76.2069, 71.7572, 75.4770,  4.5047, 45.2019,\n",
      "        30.3841]), 'RTS50': tensor([ 0.4167, 61.9155, 25.4648, 55.2233, 44.9605, 51.5091, 49.8598, 37.4466,\n",
      "        45.9659, 65.0876, 25.5382, 40.3130,  8.3052, 40.2590, 75.7739, 33.9464,\n",
      "         3.3871, 11.4519, 18.6054,  7.9571, 64.5411, 40.0263,  5.7381, 69.2064,\n",
      "        60.5560, 70.9150, 71.1340,  4.7395,  0.8778, 53.5711,  8.9932,  3.6526,\n",
      "         0.3953,  2.8398, 56.5535, 69.7673, 72.4839, 53.9050, 72.3775, 62.8879,\n",
      "        72.4540, 65.7536, 73.8752, 70.8015, 30.5512, 64.9405, 58.2720, 52.8895,\n",
      "         0.3356,  0.3367, 63.5570,  3.1392, 65.9526,  5.2828, 40.4313, 14.7218,\n",
      "        46.8379, 15.2778,  0.4476, 25.2032,  0.3236,  0.3236,  0.9615,  2.2222,\n",
      "        45.0902, 47.9636, 55.8376,  0.5155, 34.5815, 29.0846,  6.7619, 75.6378,\n",
      "        26.8548,  0.4444,  7.7881, 18.8349, 59.9757, 79.4972,  0.7042,  0.6056,\n",
      "        21.4388, 64.5640,  0.3831,  1.8519,  0.6667,  2.8804, 15.5597, 69.5312,\n",
      "        59.7048, 70.0498, 50.5588,  3.6460, 10.0360, 70.4311,  0.2924, 69.7350,\n",
      "         2.8571,  0.2793,  7.6923,  1.4286, 51.3202, 48.0273, 63.9070, 19.9069,\n",
      "        16.2764,  0.6803,  0.8850,  8.3333,  3.4590, 29.9943, 68.3264,  3.8511,\n",
      "         0.5376,  9.3409,  0.8000,  0.8000, 46.5903, 10.0938, 41.4136,  6.4524,\n",
      "        47.1042]), 'RTS50_RGB': tensor([65.3539, 65.3709,  7.6486,  6.6366,  3.3267, 11.0848,  1.7120,  1.5079,\n",
      "         2.3464,  2.2406,  2.1353,  4.0942, 57.6478, 45.7039, 84.6273, 69.6012,\n",
      "         3.5332, 54.7276, 29.7985, 30.0597, 77.6019,  8.3271, 53.5836,  2.5482,\n",
      "         6.0610, 33.7177,  7.1037,  4.1037,  0.8801,  3.7714, 66.4371,  4.0744,\n",
      "         0.3953,  2.0058,  1.1282,  0.6400,  2.4336,  3.7512,  6.6925,  2.2369,\n",
      "         3.3608,  2.1353,  2.8193,  1.2194,  5.1368,  9.3058,  0.9408,  3.2911,\n",
      "         0.3356,  0.3367,  7.2584,  0.6525,  2.3959,  6.5254,  0.7791,  1.5780,\n",
      "         2.9682,  0.5237,  0.4416,  1.1754,  0.3236,  0.3236,  0.9615,  2.2222,\n",
      "         6.0462,  1.3541, 62.0181,  0.5155,  4.3850,  3.6814, 83.6685, 86.2453,\n",
      "        26.7725,  3.8224,  2.5032, 42.7134,  4.6625, 83.1408,  2.2840, 20.8570,\n",
      "         2.8344, 62.8991,  0.3831,  1.8519,  0.6667,  2.8471,  6.5405, 80.4704,\n",
      "        77.2791,  3.1525, 83.7605, 28.8906, 12.7641,  9.2489,  0.8805,  0.8210,\n",
      "         2.8571,  0.2793,  7.6923,  1.4286,  1.3759,  2.0084,  1.8905,  1.4880,\n",
      "         6.5965,  0.6803,  0.8850,  8.3333,  2.1958,  1.9987,  0.5579,  2.4356,\n",
      "         0.6144, 80.3127, 57.8211, 79.1290,  7.0245, 69.5036, 84.7714, 82.1294,\n",
      "        76.3290])}\n",
      "\n",
      "                                                         | ToMP50     | ToMP50_RGB    | RTS50      | RTS50_RGB    |\n",
      "2024_01_10_115151_test_big_drone_000_1 (ID=20)           | 0.42       | 2.81          | 0.42       | 65.35        |\n",
      "2024_01_10_115151_test_big_drone_001_1 (ID=21)           | 53.21      | 62.18         | 61.92      | 65.37        |\n",
      "2024_01_10_115151_test_big_drone_002_1 (ID=22)           | 4.75       | 3.04          | 25.46      | 7.65         |\n",
      "2024_01_10_115435_recording_000_1 (ID=24)                | 65.65      | 2.01          | 55.22      | 6.64         |\n",
      "2024_01_10_120347_10km_000_1 (ID=35)                     | 52.54      | 4.03          | 44.96      | 3.33         |\n",
      "2024_01_10_120347_10km_001_1 (ID=36)                     | 37.91      | 5.82          | 51.51      | 11.08        |\n",
      "2024_01_10_120429_20_000_1 (ID=37)                       | 51.41      | 1.57          | 49.86      | 1.71         |\n",
      "2024_01_10_120442_recording_000_1 (ID=38)                | 57.26      | 1.83          | 37.45      | 1.51         |\n",
      "2024_01_10_120509_40_000_1 (ID=39)                       | 56.14      | 2.37          | 45.97      | 2.35         |\n",
      "2024_01_10_120509_40_001_1 (ID=40)                       | 60.35      | 2.01          | 65.09      | 2.24         |\n",
      "2024_01_10_153109_dji_007_1 (ID=49)                      | 65.42      | 1.79          | 25.54      | 2.14         |\n",
      "2024_01_10_153501_dji_slankg_000_1 (ID=50)               | 52.46      | 14.62         | 40.31      | 4.09         |\n",
      "2024_01_10_153501_dji_slankg_001_1 (ID=51)               | 45.22      | 52.72         | 8.31       | 57.65        |\n",
      "2024_01_10_153501_dji_slankg_002_1 (ID=52)               | 52.29      | 1.14          | 40.26      | 45.70        |\n",
      "2024_01_10_153740_dark_background_dji_000_1 (ID=55)      | 63.69      | 76.20         | 75.77      | 84.63        |\n",
      "2024_01_10_153740_dark_background_dji_009_1 (ID=64)      | 75.87      | 71.73         | 33.95      | 69.60        |\n",
      "2024_01_10_155504_try_two_000_1 (ID=66)                  | 2.61       | 37.18         | 3.39       | 3.53         |\n",
      "2024_01_10_160626_back_drive_011_1 (ID=79)               | 44.56      | 70.38         | 11.45      | 54.73        |\n",
      "2024_01_10_160626_back_drive_012_1 (ID=80)               | 6.05       | 7.67          | 18.61      | 29.80        |\n",
      "2024_01_10_160626_back_drive_016_1 (ID=84)               | 23.14      | 39.06         | 7.96       | 30.06        |\n",
      "2024_01_10_160626_back_drive_020_1 (ID=88)               | 62.04      | 57.06         | 64.54      | 77.60        |\n",
      "2024_01_10_162004_focus_001_2 (ID=94)                    | 4.26       | 10.78         | 40.03      | 8.33         |\n",
      "2024_01_10_162004_focus_001_3 (ID=95)                    | 41.44      | 37.54         | 5.74       | 53.58        |\n",
      "2024_01_10_162004_focus_007_2 (ID=112)                   | 62.22      | 3.09          | 69.21      | 2.55         |\n",
      "2024_01_10_162004_focus_008_3 (ID=116)                   | 47.63      | 5.83          | 60.56      | 6.06         |\n",
      "2024_01_10_162004_focus_009_2 (ID=118)                   | 72.34      | 3.11          | 70.91      | 33.72        |\n",
      "2024_01_10_162004_focus_009_3 (ID=119)                   | 54.58      | 6.64          | 71.13      | 7.10         |\n",
      "2024_01_10_162004_focus_010_2 (ID=121)                   | 5.24       | 5.22          | 4.74       | 4.10         |\n",
      "2024_01_10_162004_focus_010_3 (ID=122)                   | 2.33       | 0.99          | 0.88       | 0.88         |\n",
      "2024_01_10_162004_focus_010_4 (ID=123)                   | 33.60      | 3.75          | 53.57      | 3.77         |\n",
      "2024_01_10_162004_focus_011_1 (ID=124)                   | 50.60      | 65.18         | 8.99       | 66.44        |\n",
      "2024_01_10_162004_focus_011_2 (ID=125)                   | 3.89       | 3.70          | 3.65       | 4.07         |\n",
      "2024_01_10_162004_focus_011_3 (ID=126)                   | 0.40       | 0.40          | 0.40       | 0.40         |\n",
      "2024_01_10_162004_focus_011_4 (ID=127)                   | 6.48       | 6.46          | 2.84       | 2.01         |\n",
      "2024_01_10_162004_focus_012_2 (ID=130)                   | 51.12      | 1.13          | 56.55      | 1.13         |\n",
      "2024_01_10_162004_focus_012_3 (ID=131)                   | 50.22      | 0.69          | 69.77      | 0.64         |\n",
      "2024_01_10_162004_focus_013_1 (ID=132)                   | 54.85      | 5.02          | 72.48      | 2.43         |\n",
      "2024_01_10_162004_focus_014_3 (ID=137)                   | 63.10      | 3.70          | 53.91      | 3.75         |\n",
      "2024_01_10_162004_focus_015_2 (ID=140)                   | 68.80      | 1.43          | 72.38      | 6.69         |\n",
      "2024_01_10_162004_focus_015_3 (ID=141)                   | 55.57      | 2.22          | 62.89      | 2.24         |\n",
      "2024_01_10_162004_focus_016_1 (ID=143)                   | 57.53      | 28.10         | 72.45      | 3.36         |\n",
      "2024_01_10_162004_focus_016_2 (ID=144)                   | 51.93      | 1.97          | 65.75      | 2.14         |\n",
      "2024_01_10_162004_focus_016_3 (ID=145)                   | 54.66      | 67.91         | 73.88      | 2.82         |\n",
      "2024_01_10_162004_focus_017_2 (ID=148)                   | 72.67      | 1.22          | 70.80      | 1.22         |\n",
      "2024_01_10_162004_focus_018_2 (ID=151)                   | 16.48      | 7.60          | 30.55      | 5.14         |\n",
      "2024_01_10_162004_focus_018_3 (ID=152)                   | 53.00      | 9.21          | 64.94      | 9.31         |\n",
      "2024_01_10_162004_focus_019_2 (ID=154)                   | 55.20      | 1.11          | 58.27      | 0.94         |\n",
      "2024_01_10_162004_focus_019_3 (ID=155)                   | 59.55      | 4.01          | 52.89      | 3.29         |\n",
      "2024_01_10_162004_focus_020_2 (ID=157)                   | 0.36       | 0.34          | 0.34       | 0.34         |\n",
      "2024_01_10_162004_focus_020_3 (ID=158)                   | 0.34       | 0.34          | 0.34       | 0.34         |\n",
      "2024_01_10_162004_focus_021_2 (ID=161)                   | 51.49      | 8.12          | 63.56      | 7.26         |\n",
      "2024_01_10_162004_focus_021_3 (ID=162)                   | 30.08      | 0.78          | 3.14       | 0.65         |\n",
      "2024_01_10_162004_focus_022_2 (ID=164)                   | 59.55      | 2.90          | 65.95      | 2.40         |\n",
      "2024_01_10_162004_focus_022_3 (ID=165)                   | 2.14       | 6.16          | 5.28       | 6.53         |\n",
      "2024_01_10_162004_focus_023_2 (ID=167)                   | 44.35      | 0.78          | 40.43      | 0.78         |\n",
      "2024_01_10_162004_focus_023_3 (ID=168)                   | 48.18      | 1.66          | 14.72      | 1.58         |\n",
      "2024_01_10_162004_focus_024_4 (ID=172)                   | 63.39      | 2.55          | 46.84      | 2.97         |\n",
      "2024_01_10_162004_focus_025_3 (ID=175)                   | 55.46      | 0.87          | 15.28      | 0.52         |\n",
      "2024_01_10_162614_recording_000_2 (ID=177)               | 0.34       | 0.47          | 0.45       | 0.44         |\n",
      "2024_01_10_162614_recording_002_3 (ID=184)               | 23.82      | 0.83          | 25.20      | 1.18         |\n",
      "2024_01_10_162614_recording_005_1 (ID=191)               | 0.32       | 0.32          | 0.32       | 0.32         |\n",
      "2024_01_10_162614_recording_005_2 (ID=192)               | 0.32       | 0.32          | 0.32       | 0.32         |\n",
      "2024_01_10_162614_recording_005_3 (ID=193)               | 0.96       | 0.96          | 0.96       | 0.96         |\n",
      "2024_01_10_162614_recording_005_4 (ID=194)               | 2.22       | 2.22          | 2.22       | 2.22         |\n",
      "2024_01_10_162614_recording_006_3 (ID=197)               | 47.05      | 8.50          | 45.09      | 6.05         |\n",
      "2024_01_10_162614_recording_008_3 (ID=203)               | 42.96      | 1.75          | 47.96      | 1.35         |\n",
      "2024_01_10_162614_recording_012_3 (ID=214)               | 39.95      | 2.97          | 55.84      | 62.02        |\n",
      "2024_01_10_162614_recording_013_2 (ID=216)               | 0.52       | 0.52          | 0.52       | 0.52         |\n",
      "2024_01_10_162614_recording_013_3 (ID=217)               | 44.84      | 5.72          | 34.58      | 4.39         |\n",
      "2024_01_10_162614_recording_014_2 (ID=219)               | 59.22      | 4.94          | 29.08      | 3.68         |\n",
      "2024_01_10_162614_recording_025_2 (ID=243)               | 32.25      | 66.46         | 6.76       | 83.67        |\n",
      "2024_01_10_163234_recording_004_1 (ID=254)               | 8.23       | 75.00         | 75.64      | 86.25        |\n",
      "2024_01_10_163234_recording_006_2 (ID=259)               | 50.72      | 1.08          | 26.85      | 26.77        |\n",
      "2024_01_10_163234_recording_011_2 (ID=265)               | 3.04       | 3.42          | 0.44       | 3.82         |\n",
      "2024_01_10_163234_recording_012_2 (ID=267)               | 43.36      | 3.07          | 7.79       | 2.50         |\n",
      "2024_01_10_163234_recording_013_1 (ID=269)               | 8.78       | 40.67         | 18.83      | 42.71        |\n",
      "2024_01_10_163531_recording_000_2 (ID=271)               | 59.64      | 47.27         | 59.98      | 4.66         |\n",
      "2024_01_10_163531_recording_002_1 (ID=273)               | 4.62       | 68.06         | 79.50      | 83.14        |\n",
      "2024_01_10_163531_recording_006_2 (ID=281)               | 1.87       | 2.15          | 0.70       | 2.28         |\n",
      "2024_01_10_163531_recording_007_2 (ID=283)               | 0.57       | 8.73          | 0.61       | 20.86        |\n",
      "2024_01_10_163531_recording_009_1 (ID=285)               | 2.94       | 2.21          | 21.44      | 2.83         |\n",
      "2024_01_10_163531_recording_010_3 (ID=289)               | 58.81      | 2.97          | 64.56      | 62.90        |\n",
      "2024_01_10_163531_recording_015_2 (ID=301)               | 0.38       | 0.38          | 0.38       | 0.38         |\n",
      "2024_01_10_163531_recording_016_1 (ID=302)               | 1.85       | 1.85          | 1.85       | 1.85         |\n",
      "2024_01_10_163531_recording_016_2 (ID=303)               | 0.67       | 0.67          | 0.67       | 0.67         |\n",
      "2024_01_10_163531_recording_019_2 (ID=307)               | 3.08       | 3.12          | 2.88       | 2.85         |\n",
      "2024_01_10_164255_recording_000_1 (ID=313)               | 62.99      | 42.33         | 15.56      | 6.54         |\n",
      "2024_01_10_164255_recording_003_1 (ID=316)               | 4.72       | 53.20         | 69.53      | 80.47        |\n",
      "2024_01_10_164255_recording_006_1 (ID=319)               | 9.90       | 73.14         | 59.70      | 77.28        |\n",
      "2024_01_10_164624_recording_000_1 (ID=320)               | 50.38      | 2.80          | 70.05      | 3.15         |\n",
      "2024_01_10_164624_recording_001_1 (ID=322)               | 11.80      | 68.14         | 50.56      | 83.76        |\n",
      "2024_01_10_164624_recording_003_1 (ID=324)               | 26.71      | 74.00         | 3.65       | 28.89        |\n",
      "2024_01_10_164624_recording_006_1 (ID=327)               | 17.12      | 20.06         | 10.04      | 12.76        |\n",
      "2024_01_10_165031_recording_000_1 (ID=328)               | 59.52      | 5.47          | 70.43      | 9.25         |\n",
      "2024_01_10_165031_recording_000_2 (ID=329)               | 0.29       | 0.92          | 0.29       | 0.88         |\n",
      "2024_01_10_165031_recording_001_1 (ID=331)               | 45.62      | 0.71          | 69.74      | 0.82         |\n",
      "2024_01_10_165031_recording_003_1 (ID=333)               | 2.86       | 2.86          | 2.86       | 2.86         |\n",
      "2024_01_10_165031_recording_003_2 (ID=334)               | 0.28       | 0.28          | 0.28       | 0.28         |\n",
      "2024_01_10_165031_recording_003_3 (ID=335)               | 7.69       | 7.69          | 7.69       | 7.69         |\n",
      "2024_01_10_165031_recording_003_4 (ID=336)               | 1.43       | 1.43          | 1.43       | 1.43         |\n",
      "2024_01_10_165031_recording_004_1 (ID=337)               | 1.74       | 1.42          | 51.32      | 1.38         |\n",
      "2024_01_10_165031_recording_005_2 (ID=339)               | 44.17      | 1.98          | 48.03      | 2.01         |\n",
      "2024_01_10_165031_recording_006_1 (ID=340)               | 10.56      | 1.50          | 63.91      | 1.89         |\n",
      "2024_01_10_165031_recording_006_2 (ID=341)               | 12.52      | 1.37          | 19.91      | 1.49         |\n",
      "2024_01_10_165031_recording_007_1 (ID=342)               | 9.25       | 6.78          | 16.28      | 6.60         |\n",
      "2024_01_10_165031_recording_008_1 (ID=343)               | 0.68       | 0.68          | 0.68       | 0.68         |\n",
      "2024_01_10_165031_recording_008_2 (ID=344)               | 0.88       | 0.88          | 0.88       | 0.88         |\n",
      "2024_01_10_165031_recording_008_3 (ID=345)               | 8.33       | 8.33          | 8.33       | 8.33         |\n",
      "2024_01_10_165031_recording_009_1 (ID=346)               | 2.39       | 2.23          | 3.46       | 2.20         |\n",
      "2024_01_10_165031_recording_009_2 (ID=347)               | 2.44       | 1.97          | 29.99      | 2.00         |\n",
      "2024_01_10_165031_recording_010_1 (ID=348)               | 65.81      | 0.58          | 68.33      | 0.56         |\n",
      "2024_01_10_165031_recording_011_1 (ID=349)               | 2.95       | 2.11          | 3.85       | 2.44         |\n",
      "2024_01_10_165826_recording_000_1 (ID=354)               | 14.51      | 20.20         | 0.54       | 0.61         |\n",
      "2024_01_10_170509_himo_000_1 (ID=357)                    | 67.05      | 68.37         | 9.34       | 80.31        |\n",
      "2024_01_10_170509_himo_011_1 (ID=378)                    | 0.80       | 65.96         | 0.80       | 57.82        |\n",
      "2024_01_10_170509_himo_011_2 (ID=379)                    | 0.80       | 76.21         | 0.80       | 79.13        |\n",
      "2024_01_10_170911_recording_000_1 (ID=380)               | 42.14      | 71.76         | 46.59      | 7.02         |\n",
      "2024_01_10_170911_recording_015_2 (ID=404)               | 63.19      | 75.48         | 10.09      | 69.50        |\n",
      "2024_01_10_170911_recording_016_2 (ID=406)               | 63.88      | 4.50          | 41.41      | 84.77        |\n",
      "2024_01_10_170911_recording_018_1 (ID=409)               | 42.46      | 45.20         | 6.45       | 82.13        |\n",
      "2024_01_10_170911_recording_020_2 (ID=414)               | 46.70      | 30.38         | 47.10      | 76.33        |\n",
      "\n"
     ]
    }
   ],
   "source": [
    "# Print per sequence results for all sequences\n",
    "filter_criteria = {'mode': 'ao_min', 'threshold': 10.0}\n",
    "trackers = []\n",
    "trackers.extend(trackerlist('tomp', 'tomp50', range(2, 7), 'ToMP50'))\n",
    "trackers.extend(trackerlist('tomp', 'tomp50', 1, 'ToMP50_RGB'))\n",
    "trackers.extend(trackerlist('rts', 'rts50', range(2, 7), 'RTS50'))\n",
    "trackers.extend(trackerlist('rts', 'rts50', 1, 'RTS50_RGB'))\n",
    "dataset = get_dataset('evdrone')\n",
    "print_per_sequence_results(trackers, dataset, 'evdrone', merge_results=False, filter_criteria=filter_criteria, force_evaluation=False)"
   ]
  }
 ],
 "metadata": {
  "kernelspec": {
   "display_name": "Python 3",
   "language": "python",
   "name": "python3"
  },
  "language_info": {
   "codemirror_mode": {
    "name": "ipython",
    "version": 3
   },
   "file_extension": ".py",
   "mimetype": "text/x-python",
   "name": "python",
   "nbconvert_exporter": "python",
   "pygments_lexer": "ipython3",
   "version": "3.8.10"
  }
 },
 "nbformat": 4,
 "nbformat_minor": 4
}
